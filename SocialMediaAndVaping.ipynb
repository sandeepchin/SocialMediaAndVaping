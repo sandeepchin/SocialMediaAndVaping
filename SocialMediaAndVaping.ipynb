{
 "cells": [
  {
   "cell_type": "code",
   "execution_count": 1,
   "metadata": {},
   "outputs": [],
   "source": [
    "# Import some important libraries for data analysis\n",
    "import pandas as pd\n",
    "import numpy as np\n",
    "#For plotting\n",
    "from matplotlib import pyplot as plt\n",
    "import seaborn as sns\n",
    "%matplotlib inline\n"
   ]
  },
  {
   "cell_type": "code",
   "execution_count": 2,
   "metadata": {},
   "outputs": [
    {
     "data": {
      "text/plain": [
       "(1136, 12)"
      ]
     },
     "execution_count": 2,
     "metadata": {},
     "output_type": "execute_result"
    }
   ],
   "source": [
    "df = pd.read_csv(\"vaping.csv\")\n",
    "df.shape"
   ]
  },
  {
   "cell_type": "code",
   "execution_count": 3,
   "metadata": {},
   "outputs": [
    {
     "data": {
      "text/plain": [
       "Index(['Respondent ID', 'Collector ID', 'Start Date', 'End Date', 'IP Address',\n",
       "       'Email Address', 'First Name', 'Last Name', 'Custom Data 1',\n",
       "       'Have you ever vaped?', 'Do you have any form of social media?',\n",
       "       'Approximately how much time do you spend on social media per day?'],\n",
       "      dtype='object')"
      ]
     },
     "execution_count": 3,
     "metadata": {},
     "output_type": "execute_result"
    }
   ],
   "source": [
    "df.columns\n"
   ]
  },
  {
   "cell_type": "markdown",
   "metadata": {},
   "source": [
    "# Preprocessing"
   ]
  },
  {
   "cell_type": "code",
   "execution_count": 4,
   "metadata": {},
   "outputs": [
    {
     "data": {
      "text/html": [
       "<div>\n",
       "<style scoped>\n",
       "    .dataframe tbody tr th:only-of-type {\n",
       "        vertical-align: middle;\n",
       "    }\n",
       "\n",
       "    .dataframe tbody tr th {\n",
       "        vertical-align: top;\n",
       "    }\n",
       "\n",
       "    .dataframe thead th {\n",
       "        text-align: right;\n",
       "    }\n",
       "</style>\n",
       "<table border=\"1\" class=\"dataframe\">\n",
       "  <thead>\n",
       "    <tr style=\"text-align: right;\">\n",
       "      <th></th>\n",
       "      <th>Respondent ID</th>\n",
       "      <th>Collector ID</th>\n",
       "      <th>Start Date</th>\n",
       "      <th>End Date</th>\n",
       "      <th>IP Address</th>\n",
       "      <th>Email Address</th>\n",
       "      <th>First Name</th>\n",
       "      <th>Last Name</th>\n",
       "      <th>Custom Data 1</th>\n",
       "      <th>Have you ever vaped?</th>\n",
       "      <th>Do you have any form of social media?</th>\n",
       "      <th>Approximately how much time do you spend on social media per day?</th>\n",
       "    </tr>\n",
       "  </thead>\n",
       "  <tbody>\n",
       "    <tr>\n",
       "      <th>1</th>\n",
       "      <td>1.131619e+10</td>\n",
       "      <td>252912708.0</td>\n",
       "      <td>02/01/2020 03:39:50 PM</td>\n",
       "      <td>02/01/2020 03:40:13 PM</td>\n",
       "      <td>NaN</td>\n",
       "      <td>NaN</td>\n",
       "      <td>NaN</td>\n",
       "      <td>NaN</td>\n",
       "      <td>NaN</td>\n",
       "      <td>No</td>\n",
       "      <td>Yes</td>\n",
       "      <td>4 hours or more</td>\n",
       "    </tr>\n",
       "    <tr>\n",
       "      <th>2</th>\n",
       "      <td>1.131619e+10</td>\n",
       "      <td>252912708.0</td>\n",
       "      <td>02/01/2020 03:36:34 PM</td>\n",
       "      <td>02/01/2020 03:36:47 PM</td>\n",
       "      <td>NaN</td>\n",
       "      <td>NaN</td>\n",
       "      <td>NaN</td>\n",
       "      <td>NaN</td>\n",
       "      <td>NaN</td>\n",
       "      <td>No</td>\n",
       "      <td>Yes</td>\n",
       "      <td>4 hours or more</td>\n",
       "    </tr>\n",
       "    <tr>\n",
       "      <th>3</th>\n",
       "      <td>1.131616e+10</td>\n",
       "      <td>252912708.0</td>\n",
       "      <td>02/01/2020 02:58:57 PM</td>\n",
       "      <td>02/01/2020 02:59:13 PM</td>\n",
       "      <td>NaN</td>\n",
       "      <td>NaN</td>\n",
       "      <td>NaN</td>\n",
       "      <td>NaN</td>\n",
       "      <td>NaN</td>\n",
       "      <td>No</td>\n",
       "      <td>Yes</td>\n",
       "      <td>3 hours</td>\n",
       "    </tr>\n",
       "    <tr>\n",
       "      <th>4</th>\n",
       "      <td>1.131615e+10</td>\n",
       "      <td>252912708.0</td>\n",
       "      <td>02/01/2020 02:49:05 PM</td>\n",
       "      <td>02/01/2020 02:49:17 PM</td>\n",
       "      <td>NaN</td>\n",
       "      <td>NaN</td>\n",
       "      <td>NaN</td>\n",
       "      <td>NaN</td>\n",
       "      <td>NaN</td>\n",
       "      <td>No</td>\n",
       "      <td>Yes</td>\n",
       "      <td>4 hours or more</td>\n",
       "    </tr>\n",
       "    <tr>\n",
       "      <th>5</th>\n",
       "      <td>1.131612e+10</td>\n",
       "      <td>252912708.0</td>\n",
       "      <td>02/01/2020 02:07:59 PM</td>\n",
       "      <td>02/01/2020 02:08:10 PM</td>\n",
       "      <td>NaN</td>\n",
       "      <td>NaN</td>\n",
       "      <td>NaN</td>\n",
       "      <td>NaN</td>\n",
       "      <td>NaN</td>\n",
       "      <td>No</td>\n",
       "      <td>Yes</td>\n",
       "      <td>4 hours or more</td>\n",
       "    </tr>\n",
       "  </tbody>\n",
       "</table>\n",
       "</div>"
      ],
      "text/plain": [
       "   Respondent ID  Collector ID              Start Date  \\\n",
       "1   1.131619e+10   252912708.0  02/01/2020 03:39:50 PM   \n",
       "2   1.131619e+10   252912708.0  02/01/2020 03:36:34 PM   \n",
       "3   1.131616e+10   252912708.0  02/01/2020 02:58:57 PM   \n",
       "4   1.131615e+10   252912708.0  02/01/2020 02:49:05 PM   \n",
       "5   1.131612e+10   252912708.0  02/01/2020 02:07:59 PM   \n",
       "\n",
       "                 End Date  IP Address  Email Address  First Name  Last Name  \\\n",
       "1  02/01/2020 03:40:13 PM         NaN            NaN         NaN        NaN   \n",
       "2  02/01/2020 03:36:47 PM         NaN            NaN         NaN        NaN   \n",
       "3  02/01/2020 02:59:13 PM         NaN            NaN         NaN        NaN   \n",
       "4  02/01/2020 02:49:17 PM         NaN            NaN         NaN        NaN   \n",
       "5  02/01/2020 02:08:10 PM         NaN            NaN         NaN        NaN   \n",
       "\n",
       "   Custom Data 1 Have you ever vaped? Do you have any form of social media?  \\\n",
       "1            NaN                   No                                   Yes   \n",
       "2            NaN                   No                                   Yes   \n",
       "3            NaN                   No                                   Yes   \n",
       "4            NaN                   No                                   Yes   \n",
       "5            NaN                   No                                   Yes   \n",
       "\n",
       "  Approximately how much time do you spend on social media per day?  \n",
       "1                                    4 hours or more                 \n",
       "2                                    4 hours or more                 \n",
       "3                                            3 hours                 \n",
       "4                                    4 hours or more                 \n",
       "5                                    4 hours or more                 "
      ]
     },
     "execution_count": 4,
     "metadata": {},
     "output_type": "execute_result"
    }
   ],
   "source": [
    "df.head()\n",
    "# First row is not containing any data, so we drop it.\n",
    "df=df.drop(0)\n",
    "df.head()"
   ]
  },
  {
   "cell_type": "code",
   "execution_count": 5,
   "metadata": {},
   "outputs": [
    {
     "data": {
      "text/plain": [
       "0"
      ]
     },
     "execution_count": 5,
     "metadata": {},
     "output_type": "execute_result"
    }
   ],
   "source": [
    "# To check if any of the columns are empty\n",
    "df['Have you ever vaped?'].isnull().sum()"
   ]
  },
  {
   "cell_type": "code",
   "execution_count": 6,
   "metadata": {},
   "outputs": [
    {
     "data": {
      "text/plain": [
       "Respondent ID                                                           0\n",
       "Collector ID                                                            0\n",
       "Start Date                                                              0\n",
       "End Date                                                                0\n",
       "IP Address                                                           1135\n",
       "Email Address                                                        1135\n",
       "First Name                                                           1135\n",
       "Last Name                                                            1135\n",
       "Custom Data 1                                                        1135\n",
       "Have you ever vaped?                                                    0\n",
       "Do you have any form of social media?                                   2\n",
       "Approximately how much time do you spend on social media per day?       0\n",
       "dtype: int64"
      ]
     },
     "execution_count": 6,
     "metadata": {},
     "output_type": "execute_result"
    }
   ],
   "source": [
    "# This gives the number of null values for each column\n",
    "# if axis=1 then it gives number of null values for each row\n",
    "df.isnull().sum(axis=0)"
   ]
  },
  {
   "cell_type": "code",
   "execution_count": 7,
   "metadata": {},
   "outputs": [
    {
     "data": {
      "text/plain": [
       "No     809\n",
       "Yes    326\n",
       "Name: Have you ever vaped?, dtype: int64"
      ]
     },
     "execution_count": 7,
     "metadata": {},
     "output_type": "execute_result"
    }
   ],
   "source": [
    "#To print the number of times a value appears in a column\n",
    "df['Have you ever vaped?'].value_counts(dropna=False)"
   ]
  },
  {
   "cell_type": "code",
   "execution_count": 8,
   "metadata": {},
   "outputs": [
    {
     "data": {
      "text/plain": [
       "Yes    1122\n",
       "No       11\n",
       "NaN       2\n",
       "Name: Do you have any form of social media?, dtype: int64"
      ]
     },
     "execution_count": 8,
     "metadata": {},
     "output_type": "execute_result"
    }
   ],
   "source": [
    "df['Do you have any form of social media?'].value_counts(dropna=False)"
   ]
  },
  {
   "cell_type": "code",
   "execution_count": 9,
   "metadata": {},
   "outputs": [
    {
     "data": {
      "text/plain": [
       "4 hours or more                            495\n",
       "3 hours                                    281\n",
       "2 hours                                    223\n",
       "1 hour                                     104\n",
       "30 minutes or less                          22\n",
       "I don't spend any time on social media.     10\n",
       "Name: Approximately how much time do you spend on social media per day?, dtype: int64"
      ]
     },
     "execution_count": 9,
     "metadata": {},
     "output_type": "execute_result"
    }
   ],
   "source": [
    "df['Approximately how much time do you spend on social media per day?'].value_counts(dropna=False)"
   ]
  },
  {
   "cell_type": "code",
   "execution_count": 10,
   "metadata": {},
   "outputs": [
    {
     "data": {
      "text/plain": [
       "(1133, 3)"
      ]
     },
     "execution_count": 10,
     "metadata": {},
     "output_type": "execute_result"
    }
   ],
   "source": [
    "# Drop all columns that have nan or missing values\n",
    "df  = df.drop(['Respondent ID', 'Collector ID', 'Start Date', 'End Date', 'IP Address',\n",
    "       'Email Address', 'First Name', 'Last Name', 'Custom Data 1'], axis=1)\n",
    "# Drop all rows that have Nan or missing value\n",
    "df.shape\n",
    "df = df.dropna()  #only two rows were removed\n",
    "df.shape"
   ]
  },
  {
   "cell_type": "markdown",
   "metadata": {},
   "source": [
    "# Plotting data for univariate analysis"
   ]
  },
  {
   "cell_type": "code",
   "execution_count": 11,
   "metadata": {},
   "outputs": [
    {
     "data": {
      "text/plain": [
       "<matplotlib.axes._subplots.AxesSubplot at 0x7fdaa6daa1d0>"
      ]
     },
     "execution_count": 11,
     "metadata": {},
     "output_type": "execute_result"
    },
    {
     "data": {
      "image/png": "[encoded data removed]",
      "text/plain": [
       "<matplotlib.figure.Figure at 0x7fdaa6d7b6d8>"
      ]
     },
     "metadata": {},
     "output_type": "display_data"
    }
   ],
   "source": [
    "# All of our data is categorical\n",
    "\n",
    "# Determine width and height of graph\n",
    "plt.figure(figsize=(9,5))\n",
    "\n",
    "sns.countplot(df['Have you ever vaped?'].dropna())\n",
    "\n",
    "# To limit the number of groups shown in seaborn plot by ordering from highest to lowest\n",
    "#sns.countplot(df['Have you ever vaped?'].dropna(),order = df['Have you ever vaped?'].value_counts().index)"
   ]
  },
  {
   "cell_type": "code",
   "execution_count": 12,
   "metadata": {},
   "outputs": [
    {
     "data": {
      "text/plain": [
       "<matplotlib.axes._subplots.AxesSubplot at 0x7fdaa6cf87f0>"
      ]
     },
     "execution_count": 12,
     "metadata": {},
     "output_type": "execute_result"
    },
    {
     "data": {
      "image/png": "[encoded data removed]",
      "text/plain": [
       "<matplotlib.figure.Figure at 0x7fdaa6ccbf60>"
      ]
     },
     "metadata": {},
     "output_type": "display_data"
    }
   ],
   "source": [
    "sns.countplot(df['Do you have any form of social media?'].dropna())\n"
   ]
  },
  {
   "cell_type": "code",
   "execution_count": 13,
   "metadata": {},
   "outputs": [
    {
     "data": {
      "text/plain": [
       "Text(0,0.5,'Social Media Usage')"
      ]
     },
     "execution_count": 13,
     "metadata": {},
     "output_type": "execute_result"
    },
    {
     "data": {
      "image/png": "[encoded data removed]",
      "text/plain": [
       "<matplotlib.figure.Figure at 0x7fdaa6d5f940>"
      ]
     },
     "metadata": {},
     "output_type": "display_data"
    }
   ],
   "source": [
    "# Determine width and height of graph\n",
    "plt.figure(figsize=(9,5))\n",
    "# Draw the usage on y-axis\n",
    "l=sns.countplot(y=df['Approximately how much time do you spend on social media per day?'].dropna(),\n",
    "              order = df['Approximately how much time do you spend on social media per day?'].value_counts().index)\n",
    "# Customize y label\n",
    "l.set_ylabel(\"Social Media Usage\")"
   ]
  },
  {
   "cell_type": "markdown",
   "metadata": {},
   "source": [
    "# Plotting for Bivariate Analysis"
   ]
  },
  {
   "cell_type": "code",
   "execution_count": 14,
   "metadata": {},
   "outputs": [
    {
     "data": {
      "text/html": [
       "<div>\n",
       "<style scoped>\n",
       "    .dataframe tbody tr th:only-of-type {\n",
       "        vertical-align: middle;\n",
       "    }\n",
       "\n",
       "    .dataframe tbody tr th {\n",
       "        vertical-align: top;\n",
       "    }\n",
       "\n",
       "    .dataframe thead th {\n",
       "        text-align: right;\n",
       "    }\n",
       "</style>\n",
       "<table border=\"1\" class=\"dataframe\">\n",
       "  <thead>\n",
       "    <tr style=\"text-align: right;\">\n",
       "      <th></th>\n",
       "      <th>Have you ever vaped?</th>\n",
       "      <th>vaped_numeric</th>\n",
       "    </tr>\n",
       "  </thead>\n",
       "  <tbody>\n",
       "    <tr>\n",
       "      <th>1</th>\n",
       "      <td>No</td>\n",
       "      <td>0</td>\n",
       "    </tr>\n",
       "    <tr>\n",
       "      <th>2</th>\n",
       "      <td>No</td>\n",
       "      <td>0</td>\n",
       "    </tr>\n",
       "    <tr>\n",
       "      <th>3</th>\n",
       "      <td>No</td>\n",
       "      <td>0</td>\n",
       "    </tr>\n",
       "    <tr>\n",
       "      <th>4</th>\n",
       "      <td>No</td>\n",
       "      <td>0</td>\n",
       "    </tr>\n",
       "    <tr>\n",
       "      <th>5</th>\n",
       "      <td>No</td>\n",
       "      <td>0</td>\n",
       "    </tr>\n",
       "    <tr>\n",
       "      <th>6</th>\n",
       "      <td>No</td>\n",
       "      <td>0</td>\n",
       "    </tr>\n",
       "    <tr>\n",
       "      <th>7</th>\n",
       "      <td>No</td>\n",
       "      <td>0</td>\n",
       "    </tr>\n",
       "    <tr>\n",
       "      <th>8</th>\n",
       "      <td>Yes</td>\n",
       "      <td>1</td>\n",
       "    </tr>\n",
       "    <tr>\n",
       "      <th>9</th>\n",
       "      <td>No</td>\n",
       "      <td>0</td>\n",
       "    </tr>\n",
       "    <tr>\n",
       "      <th>10</th>\n",
       "      <td>No</td>\n",
       "      <td>0</td>\n",
       "    </tr>\n",
       "  </tbody>\n",
       "</table>\n",
       "</div>"
      ],
      "text/plain": [
       "   Have you ever vaped?  vaped_numeric\n",
       "1                    No              0\n",
       "2                    No              0\n",
       "3                    No              0\n",
       "4                    No              0\n",
       "5                    No              0\n",
       "6                    No              0\n",
       "7                    No              0\n",
       "8                   Yes              1\n",
       "9                    No              0\n",
       "10                   No              0"
      ]
     },
     "execution_count": 14,
     "metadata": {},
     "output_type": "execute_result"
    }
   ],
   "source": [
    "# All our data is categorical, for analysis, it is required that we encode it numerically.\n",
    "\n",
    "# Import preprocessing library from sci-kit learn\n",
    "from sklearn import preprocessing\n",
    "# Create a labelencoder object\n",
    "le = preprocessing.LabelEncoder()\n",
    "#Fit label encoder and return encoded labels\n",
    "df['vaped_numeric']=le.fit_transform(df['Have you ever vaped?'])\n",
    "#df['vaped_numeric']\n",
    "df[['Have you ever vaped?','vaped_numeric']].head(10)"
   ]
  },
  {
   "cell_type": "code",
   "execution_count": 15,
   "metadata": {},
   "outputs": [
    {
     "data": {
      "text/html": [
       "<div>\n",
       "<style scoped>\n",
       "    .dataframe tbody tr th:only-of-type {\n",
       "        vertical-align: middle;\n",
       "    }\n",
       "\n",
       "    .dataframe tbody tr th {\n",
       "        vertical-align: top;\n",
       "    }\n",
       "\n",
       "    .dataframe thead th {\n",
       "        text-align: right;\n",
       "    }\n",
       "</style>\n",
       "<table border=\"1\" class=\"dataframe\">\n",
       "  <thead>\n",
       "    <tr style=\"text-align: right;\">\n",
       "      <th></th>\n",
       "      <th>Do you have any form of social media?</th>\n",
       "      <th>sm_numeric</th>\n",
       "    </tr>\n",
       "  </thead>\n",
       "  <tbody>\n",
       "    <tr>\n",
       "      <th>1</th>\n",
       "      <td>Yes</td>\n",
       "      <td>1</td>\n",
       "    </tr>\n",
       "    <tr>\n",
       "      <th>2</th>\n",
       "      <td>Yes</td>\n",
       "      <td>1</td>\n",
       "    </tr>\n",
       "    <tr>\n",
       "      <th>3</th>\n",
       "      <td>Yes</td>\n",
       "      <td>1</td>\n",
       "    </tr>\n",
       "    <tr>\n",
       "      <th>4</th>\n",
       "      <td>Yes</td>\n",
       "      <td>1</td>\n",
       "    </tr>\n",
       "    <tr>\n",
       "      <th>5</th>\n",
       "      <td>Yes</td>\n",
       "      <td>1</td>\n",
       "    </tr>\n",
       "    <tr>\n",
       "      <th>6</th>\n",
       "      <td>Yes</td>\n",
       "      <td>1</td>\n",
       "    </tr>\n",
       "    <tr>\n",
       "      <th>7</th>\n",
       "      <td>Yes</td>\n",
       "      <td>1</td>\n",
       "    </tr>\n",
       "    <tr>\n",
       "      <th>8</th>\n",
       "      <td>Yes</td>\n",
       "      <td>1</td>\n",
       "    </tr>\n",
       "    <tr>\n",
       "      <th>9</th>\n",
       "      <td>Yes</td>\n",
       "      <td>1</td>\n",
       "    </tr>\n",
       "    <tr>\n",
       "      <th>10</th>\n",
       "      <td>Yes</td>\n",
       "      <td>1</td>\n",
       "    </tr>\n",
       "  </tbody>\n",
       "</table>\n",
       "</div>"
      ],
      "text/plain": [
       "   Do you have any form of social media?  sm_numeric\n",
       "1                                    Yes           1\n",
       "2                                    Yes           1\n",
       "3                                    Yes           1\n",
       "4                                    Yes           1\n",
       "5                                    Yes           1\n",
       "6                                    Yes           1\n",
       "7                                    Yes           1\n",
       "8                                    Yes           1\n",
       "9                                    Yes           1\n",
       "10                                   Yes           1"
      ]
     },
     "execution_count": 15,
     "metadata": {},
     "output_type": "execute_result"
    }
   ],
   "source": [
    "# Repeat this for other categorical data\n",
    "\"\"\"\n",
    "mode = df['Do you have any form of social media?'].mode()\n",
    "print(mode)\n",
    "#df['Do you have any form of social media?'] = df['Do you have any form of social media?'].astype(str)\n",
    "df['Do you have any form of social media?']=df['Do you have any form of social media?'].fillna('Yes')\n",
    "\"\"\"\n",
    "\n",
    "df['sm_numeric'] = le.fit_transform(df['Do you have any form of social media?'])\n",
    "\n",
    "df['sm_numeric'].value_counts(dropna=False)\n",
    "df[['Do you have any form of social media?','sm_numeric']].head(10)"
   ]
  },
  {
   "cell_type": "code",
   "execution_count": 16,
   "metadata": {},
   "outputs": [
    {
     "name": "stderr",
     "output_type": "stream",
     "text": [
      "/usr/lib/python3/dist-packages/pandas/core/indexing.py:194: SettingWithCopyWarning: \n",
      "A value is trying to be set on a copy of a slice from a DataFrame\n",
      "\n",
      "See the caveats in the documentation: http://pandas.pydata.org/pandas-docs/stable/indexing.html#indexing-view-versus-copy\n",
      "  self._setitem_with_indexer(indexer, value)\n"
     ]
    }
   ],
   "source": [
    "#Rename column because its too long\n",
    "df.rename(columns = {'Approximately how much time do you spend on social media per day?':'sm_time'}, inplace = True)\n",
    "\n",
    "df['sm_time'].value_counts()\n",
    "# add a new column to store numerical data for time spent on social media\n",
    "df['sm_usage_numeric'] = pd.Series({})\n",
    "\n",
    "# Map categorical data to numeric data\n",
    "# I don't spend any time on social media is mapped to 0\n",
    "# 30 minutes or less is mapped to 1\n",
    "# 1 hour is mapped to 2\n",
    "# 2 hours is mapped to 3\n",
    "# 3 hours is mapped to 4\n",
    "# 4 hours or more is mapped to 5\n",
    "for i in range(len(df)):\n",
    "    if df['sm_time'].iloc[i]==\"I don't spend any time on social media.\":\n",
    "        df['sm_usage_numeric'].iloc[i]=0\n",
    "    elif df['sm_time'].iloc[i]=='30 minutes or less':\n",
    "        df['sm_usage_numeric'].iloc[i]=1\n",
    "    elif df['sm_time'].iloc[i]=='1 hour':\n",
    "        df['sm_usage_numeric'].iloc[i]=2\n",
    "    elif df['sm_time'].iloc[i]=='2 hours':\n",
    "        df['sm_usage_numeric'].iloc[i]=3\n",
    "    elif df['sm_time'].iloc[i]=='3 hours':\n",
    "        df['sm_usage_numeric'].iloc[i]=4\n",
    "    else:# df['sm_time'][i]=='4 hours or more':\n",
    "        df['sm_usage_numeric'].iloc[i]=5\n",
    "\n"
   ]
  },
  {
   "cell_type": "code",
   "execution_count": 17,
   "metadata": {},
   "outputs": [
    {
     "data": {
      "text/plain": [
       "Index(['vaped_numeric', 'sm_numeric', 'sm_usage_numeric'], dtype='object')"
      ]
     },
     "execution_count": 17,
     "metadata": {},
     "output_type": "execute_result"
    }
   ],
   "source": [
    "#Drop the categorical columns\n",
    "df.columns\n",
    "df= df.drop(['Have you ever vaped?','Do you have any form of social media?'],axis=1)\n",
    "df = df.drop(['sm_time'],axis=1)\n",
    "df.columns"
   ]
  },
  {
   "cell_type": "code",
   "execution_count": 18,
   "metadata": {},
   "outputs": [
    {
     "data": {
      "text/plain": [
       "<seaborn.axisgrid.FacetGrid at 0x7fdaa6e12630>"
      ]
     },
     "execution_count": 18,
     "metadata": {},
     "output_type": "execute_result"
    },
    {
     "data": {
      "image/png": "[encoded data removed]",
      "text/plain": [
       "<matplotlib.figure.Figure at 0x7fdacb11b828>"
      ]
     },
     "metadata": {},
     "output_type": "display_data"
    }
   ],
   "source": [
    "# Plot social media usage versus vaping \n",
    "# Social media is mapped from 0(never use social media) to 5(4 or more hours)\n",
    "# The mean value of vaping is plotted on the y-axis\n",
    "\n",
    "# ci is Size of confidence intervals to draw around estimated values. \n",
    "# If “sd”, skip bootstrapping and draw the standard deviation of the observations. \n",
    "# If None, no bootstrapping will be performed, and error bars will not be drawn.\n",
    "# Set ci=None if you dont want to draw confidence intervals\n",
    "\n",
    "l=sns.catplot(x=\"sm_usage_numeric\", y=\"vaped_numeric\", kind=\"bar\", data=df)\n",
    "\n",
    "# Customize x and y axes labels\n",
    "l.set_axis_labels(\"Degrees of social media usage\",\"Vaping percentage\")\n",
    "\n",
    "#This plot shows that as people spend more time on social media, it is \n",
    "# possible that they vape. "
   ]
  },
  {
   "cell_type": "code",
   "execution_count": 19,
   "metadata": {},
   "outputs": [
    {
     "name": "stderr",
     "output_type": "stream",
     "text": [
      "/usr/lib/python3/dist-packages/pandas/core/indexing.py:194: SettingWithCopyWarning: \n",
      "A value is trying to be set on a copy of a slice from a DataFrame\n",
      "\n",
      "See the caveats in the documentation: http://pandas.pydata.org/pandas-docs/stable/indexing.html#indexing-view-versus-copy\n",
      "  self._setitem_with_indexer(indexer, value)\n"
     ]
    },
    {
     "data": {
      "text/plain": [
       "1    0.339394\n",
       "2    0.339394\n",
       "3    0.290323\n",
       "4    0.339394\n",
       "5    0.339394\n",
       "Name: target, dtype: float64"
      ]
     },
     "execution_count": 19,
     "metadata": {},
     "output_type": "execute_result"
    }
   ],
   "source": [
    "# Based on the above graph it is a good idea to\n",
    "# determine the proportion of people vaping in each category of social media users\n",
    "\n",
    "# Group 0: People who don't spend anytime on social media\n",
    "# Group 1: People who spend 30 minutes or less on social media\n",
    "# Group 2: People who spend 1 hour on social media\n",
    "# Group 3: People who spend 2 hours on social media\n",
    "# Group 4: People who spend 3 hours on social media\n",
    "# Group 5: People who spend 4 or more hours on social media\n",
    "\n",
    "# Compute the percentage of vapers in each group and store it in a list\n",
    "target_values=[]\n",
    "\n",
    "# For each group from 0 to 5\n",
    "for i in range(0,6):\n",
    "    # Obtain all rows that match with group i\n",
    "    filter1 = df['sm_usage_numeric']==i\n",
    "    # Obtain all rows that are vapers\n",
    "    filter2 = df['vaped_numeric']==1\n",
    "    # Determine the number of rows that satisfy the criteria for both filter 1 and 2 \n",
    "    num = len(df[filter1&filter2]['sm_usage_numeric'])\n",
    "    # Determine the number of rows that satisfy criteria for filter 1\n",
    "    den = len(df[filter1]['sm_usage_numeric'])\n",
    "    # Determine the percentage of vapers group i\n",
    "    value = num/den\n",
    "    # Append values to a list\n",
    "    target_values.append(value)\n",
    "\n",
    "# Create a new column called 'target' to the dataframe df\n",
    "df['target'] = pd.Series({})\n",
    "# Under this new column we will add the percentage of vaping\n",
    "for i in range(len(df)):\n",
    "    # If it is group 0 then add the percentage for group 0\n",
    "    if df['sm_usage_numeric'].iloc[i]==0:\n",
    "        df['target'].iloc[i] = target_values[0]\n",
    "    # else if it is group 1 then add the percentage for group 1 and so on\n",
    "    elif df['sm_usage_numeric'].iloc[i]==1:\n",
    "        df['target'].iloc[i] = target_values[1]\n",
    "    elif df['sm_usage_numeric'].iloc[i]==2:\n",
    "        df['target'].iloc[i] = target_values[2]\n",
    "    elif df['sm_usage_numeric'].iloc[i]==3:\n",
    "        df['target'].iloc[i] = target_values[3]\n",
    "    elif df['sm_usage_numeric'].iloc[i]==4:\n",
    "        df['target'].iloc[i] = target_values[4]\n",
    "    else:\n",
    "        df['target'].iloc[i] = target_values[5]\n",
    "\n",
    "#Print the first 5 rows of dataframe\n",
    "df['target'].head(5)"
   ]
  },
  {
   "cell_type": "code",
   "execution_count": 20,
   "metadata": {},
   "outputs": [
    {
     "data": {
      "text/plain": [
       "Index(['vaped_numeric', 'sm_numeric', 'sm_usage_numeric', 'target'], dtype='object')"
      ]
     },
     "execution_count": 20,
     "metadata": {},
     "output_type": "execute_result"
    }
   ],
   "source": [
    "df.columns"
   ]
  },
  {
   "cell_type": "code",
   "execution_count": 21,
   "metadata": {},
   "outputs": [
    {
     "name": "stdout",
     "output_type": "stream",
     "text": [
      "(849,)\n",
      "(284,)\n",
      "(849,)\n",
      "(284,)\n"
     ]
    },
    {
     "data": {
      "text/plain": [
       "73      0.237668\n",
       "695     0.237668\n",
       "976     0.237668\n",
       "323     0.339394\n",
       "1012    0.237668\n",
       "Name: target, dtype: float64"
      ]
     },
     "execution_count": 21,
     "metadata": {},
     "output_type": "execute_result"
    }
   ],
   "source": [
    "# Import the train_test_split function\n",
    "from sklearn.model_selection import train_test_split\n",
    "# Split the data into training set and test set by\n",
    "# picking rows randomly from the dataframe \n",
    "# random_state option is used to pick the same set of rows each time the\n",
    "# function is called. This can be used for verification.\n",
    "x_train, x_test, y_train, y_test = train_test_split(df['sm_usage_numeric'],df['target'],random_state=42)\n",
    "# x_train and x_test are vectors(1-D array) of inputs\n",
    "print(x_train.shape) # 75%\n",
    "print(x_test.shape)  # 25%\n",
    "\n",
    "# y_train and y_test are vectors(1-D array) of outputs\n",
    "print(y_train.shape) # 75%\n",
    "print(y_test.shape)  # 25%\n",
    "\n",
    "y_train.head()"
   ]
  },
  {
   "cell_type": "code",
   "execution_count": 22,
   "metadata": {},
   "outputs": [
    {
     "name": "stderr",
     "output_type": "stream",
     "text": [
      "/usr/local/lib/python3.6/dist-packages/ipykernel_launcher.py:8: FutureWarning: reshape is deprecated and will raise in a subsequent release. Please use .values.reshape(...) instead\n",
      "  \n"
     ]
    },
    {
     "data": {
      "text/plain": [
       "LinearRegression(copy_X=True, fit_intercept=True, n_jobs=None, normalize=False)"
      ]
     },
     "execution_count": 22,
     "metadata": {},
     "output_type": "execute_result"
    }
   ],
   "source": [
    "import sklearn.linear_model\n",
    "\n",
    "# Select a linear regression model\n",
    "model = sklearn.linear_model.LinearRegression()\n",
    " \n",
    "# Usually x_train is 2 D where the columns correspond to features. \n",
    "# Our data has only one feature so we need to reshape it to 2D\n",
    "x_train = x_train.reshape(-1,1)\n",
    "\n",
    "# Train the model - allows us to find the slope and y-intercept\n",
    "model.fit(x_train, y_train)"
   ]
  },
  {
   "cell_type": "code",
   "execution_count": 23,
   "metadata": {},
   "outputs": [
    {
     "name": "stderr",
     "output_type": "stream",
     "text": [
      "/usr/local/lib/python3.6/dist-packages/ipykernel_launcher.py:3: FutureWarning: reshape is deprecated and will raise in a subsequent release. Please use .values.reshape(...) instead\n",
      "  This is separate from the ipykernel package so we can avoid doing imports until\n"
     ]
    },
    {
     "data": {
      "text/plain": [
       "0.9676084752837351"
      ]
     },
     "execution_count": 23,
     "metadata": {},
     "output_type": "execute_result"
    }
   ],
   "source": [
    "# We will score our model on test data, to see how good it is.\n",
    "# Reshape the test data first\n",
    "x_test =x_test.reshape(-1,1)\n",
    "# Score the accuracy of the model\n",
    "model.score(x_test,y_test)"
   ]
  },
  {
   "cell_type": "code",
   "execution_count": 24,
   "metadata": {},
   "outputs": [
    {
     "name": "stdout",
     "output_type": "stream",
     "text": [
      "Prediction: 34.03%\n"
     ]
    }
   ],
   "source": [
    "# Prediction based on our model\n",
    "# Given an unlabeled data point representing how much time is spent on social media, \n",
    "# predict how likely that student is going to vape?\n",
    "\n",
    "# Let's say student is in group 5 (4 or more hours on social media)\n",
    "x_new = np.array([[5]])\n",
    "\n",
    "# Call the predict method to make a prediction\n",
    "prediction = model.predict(x_new)\n",
    "# Output the value (a numpy array)\n",
    "print(\"Prediction: \"+'%.2f'%(prediction[0]*100)+\"%\")"
   ]
  },
  {
   "cell_type": "code",
   "execution_count": 25,
   "metadata": {},
   "outputs": [
    {
     "data": {
      "text/plain": [
       "array([0.05085523])"
      ]
     },
     "execution_count": 25,
     "metadata": {},
     "output_type": "execute_result"
    }
   ],
   "source": [
    "# This is the slope of our line - it is not zero so there is some bearing \n",
    "# of social media on vaping\n",
    "model.coef_"
   ]
  },
  {
   "cell_type": "code",
   "execution_count": 26,
   "metadata": {},
   "outputs": [
    {
     "data": {
      "text/plain": [
       "0.08599391831179598"
      ]
     },
     "execution_count": 26,
     "metadata": {},
     "output_type": "execute_result"
    }
   ],
   "source": [
    "# This is the y-intercept of our line\n",
    "model.intercept_"
   ]
  },
  {
   "cell_type": "code",
   "execution_count": 27,
   "metadata": {},
   "outputs": [
    {
     "data": {
      "text/plain": [
       "array([0.34027008])"
      ]
     },
     "execution_count": 27,
     "metadata": {},
     "output_type": "execute_result"
    }
   ],
   "source": [
    "# Checking our slope and intercept with x set to 5\n",
    "model.coef_*5 + model.intercept_"
   ]
  },
  {
   "cell_type": "code",
   "execution_count": 28,
   "metadata": {},
   "outputs": [
    {
     "data": {
      "text/plain": [
       "Text(0,0.5,'Vaping percentage')"
      ]
     },
     "execution_count": 28,
     "metadata": {},
     "output_type": "execute_result"
    },
    {
     "data": {
      "image/png": "[encoded data removed]",
      "text/plain": [
       "<matplotlib.figure.Figure at 0x7fdaa1501fd0>"
      ]
     },
     "metadata": {},
     "output_type": "display_data"
    }
   ],
   "source": [
    "# Draw a regression line to best fit the data\n",
    "l=sns.regplot(x=df['sm_usage_numeric'], y=df['target'])  \n",
    "l.set_xlabel(\"Degrees of social media usage\")\n",
    "l.set_ylabel(\"Vaping percentage\")"
   ]
  },
  {
   "cell_type": "code",
   "execution_count": 29,
   "metadata": {},
   "outputs": [
    {
     "data": {
      "text/plain": [
       "75.08473080320209"
      ]
     },
     "execution_count": 29,
     "metadata": {},
     "output_type": "execute_result"
    }
   ],
   "source": [
    "# Calculations necessary for assessing the model\n",
    "# Calculate SSxy (sum of squares of errors in x and y)\n",
    "# SSxy = sum(xi*yi) - n*mean(x)*mean(y)\n",
    "total=0\n",
    "for i in range(0,len(df)):\n",
    "    total+= df['sm_usage_numeric'].iloc[i]*df['target'].iloc[i]\n",
    "\n",
    "x_mean = df['sm_usage_numeric'].mean()\n",
    "y_mean = df['target'].mean()\n",
    "\n",
    "SSxy = total - len(df)*x_mean*y_mean\n",
    "SSxy"
   ]
  },
  {
   "cell_type": "code",
   "execution_count": 30,
   "metadata": {},
   "outputs": [
    {
     "data": {
      "text/plain": [
       "1490.4430714916125"
      ]
     },
     "execution_count": 30,
     "metadata": {},
     "output_type": "execute_result"
    }
   ],
   "source": [
    "#Calculate SSxx (sum of squares of errors in x)\n",
    "# SSxx = sum(xi^2) - n*mean(x)^2\n",
    "total=0\n",
    "for i in range(0,len(df)):\n",
    "    total += df['sm_usage_numeric'].iloc[i]*df['sm_usage_numeric'].iloc[i]\n",
    "\n",
    "SSxx = total - len(df)*x_mean*x_mean\n",
    "SSxx"
   ]
  },
  {
   "cell_type": "code",
   "execution_count": 31,
   "metadata": {},
   "outputs": [
    {
     "data": {
      "text/plain": [
       "0.05037745636809761"
      ]
     },
     "execution_count": 31,
     "metadata": {},
     "output_type": "execute_result"
    }
   ],
   "source": [
    "# Slope is given by SSxy/SSxx - this is the same as model.coef_\n",
    "SSxy/SSxx"
   ]
  },
  {
   "cell_type": "code",
   "execution_count": 32,
   "metadata": {},
   "outputs": [
    {
     "data": {
      "text/plain": [
       "3.9036204124001728"
      ]
     },
     "execution_count": 32,
     "metadata": {},
     "output_type": "execute_result"
    }
   ],
   "source": [
    "#Calculate SSyy (sum of squares of errors in y)\n",
    "# SSyy = sum(yi^2) - n*mean(y)^2\n",
    "total=0\n",
    "for i in range(0,len(df)):\n",
    "    total += df['target'].iloc[i]*df['target'].iloc[i]\n",
    "\n",
    "SSyy = total - len(df)*y_mean*y_mean\n",
    "SSyy"
   ]
  },
  {
   "cell_type": "code",
   "execution_count": 33,
   "metadata": {},
   "outputs": [
    {
     "data": {
      "text/plain": [
       "0.9843740167018148"
      ]
     },
     "execution_count": 33,
     "metadata": {},
     "output_type": "execute_result"
    }
   ],
   "source": [
    "# Calculate coefficient of correlation - \n",
    "# measure of strength of linear relationship between two variables\n",
    "# r = SSxy/sqrt(SSxx*SSyy)\n",
    "\n",
    "from math import sqrt\n",
    "r = SSxy/sqrt(SSxx*SSyy)\n",
    "r\n",
    "\n",
    "# Coefficient of correlation shows a strong positive correlation\n",
    "# between social media usage and vaping"
   ]
  },
  {
   "cell_type": "code",
   "execution_count": 34,
   "metadata": {},
   "outputs": [
    {
     "name": "stdout",
     "output_type": "stream",
     "text": [
      "Mean Absolute Error: 0.0031086856532746934\n",
      "Mean Squared Error: 0.00011188558062904878\n",
      "Root Mean Squared Error: 0.010577598055752013\n",
      "Mean of the target set: 0.28773168578993824\n"
     ]
    }
   ],
   "source": [
    "# Other metrics used for evaluation of the model\n",
    "# Absolute Mean Error\n",
    "# Mean Squared Error\n",
    "# Root Mean Squared error\n",
    "\n",
    "from sklearn import metrics\n",
    "\n",
    "y_pred = model.predict(x_test)\n",
    "print('Mean Absolute Error:', metrics.mean_absolute_error(y_test, y_pred))  \n",
    "print('Mean Squared Error:', metrics.mean_squared_error(y_test, y_pred))  \n",
    "print('Root Mean Squared Error:', np.sqrt(metrics.mean_squared_error(y_test, y_pred)))\n",
    "\n",
    "print(\"Mean of the target set:\",df['target'].mean())"
   ]
  },
  {
   "cell_type": "code",
   "execution_count": 35,
   "metadata": {},
   "outputs": [
    {
     "name": "stdout",
     "output_type": "stream",
     "text": [
      "Standard deviation:0.01034517713982612\n",
      "t is 187.99919962781897\n"
     ]
    }
   ],
   "source": [
    "#Conclusions on the model\n",
    "# Ho (null hypothesis) : Social media has no influence on Vaping\n",
    "# Ha (alternative hypothesis): Social media has influence on Vaping\n",
    "\n",
    "# alpha = 0.05 - probability of type I error (false positive)\n",
    "# talpha/2 = 1.96 (from student's t table)\n",
    "\n",
    "# We will compute test statistic t = predicted slope/(s/sqrt(SSxx))\n",
    "# where s is the standard deviation of the sample\n",
    "# variance of sample s_squared = SSE/degrees of freedom for error\n",
    "\n",
    "# Calculate standard deviation:\n",
    "beta_1 = SSxy/SSxx\n",
    "SSE = SSyy - beta_1*SSxy\n",
    "n = len(df)\n",
    "s_squared = SSE/(n-2)\n",
    "s = sqrt(s_squared)\n",
    "print(\"Standard deviation:\"+str(s))\n",
    "t = beta_1/(s/sqrt(SSxx))\n",
    "print(\"t is \"+str(t))\n",
    "\n",
    "# t > 1.96 (talpha/2), therefore we reject Ho"
   ]
  },
  {
   "cell_type": "code",
   "execution_count": 36,
   "metadata": {},
   "outputs": [
    {
     "data": {
      "text/plain": [
       "'\\nDecision:\\nt statistic > talpha/2 therefore we reject Ho \\n\\np-value = 0 is less than alpha, we will reject Ho\\n\\nTherefore, social media has influence over vaping. \\nThere is a positive correlation between the two.\\n'"
      ]
     },
     "execution_count": 36,
     "metadata": {},
     "output_type": "execute_result"
    }
   ],
   "source": [
    "\"\"\"\n",
    "Decision:\n",
    "t statistic > talpha/2 therefore we reject Ho \n",
    "\n",
    "p-value = 0 is less than alpha, we will reject Ho\n",
    "\n",
    "Therefore, social media has influence over vaping. \n",
    "There is a positive correlation between the two.\n",
    "\"\"\""
   ]
  },
  {
   "cell_type": "code",
   "execution_count": 37,
   "metadata": {},
   "outputs": [
    {
     "name": "stdout",
     "output_type": "stream",
     "text": [
      "(0.04985224235294783,0.05090267038324739)\n"
     ]
    }
   ],
   "source": [
    "# Confidence Interval (alpha=0.05 meaning 95% confidence)\n",
    "# (slope-talpha/2*s/sqrt(SSxx), slope + talpha/2*s/sqrt(SSxx))\n",
    "\n",
    "lb = beta_1 - 1.96*s/sqrt(SSxx)\n",
    "ub = beta_1 + 1.96*s/sqrt(SSxx)\n",
    "print(\"(\"+str(lb)+\",\"+str(ub)+\")\")"
   ]
  },
  {
   "cell_type": "code",
   "execution_count": 38,
   "metadata": {},
   "outputs": [
    {
     "data": {
      "text/plain": [
       "'\\nWe can say, with 95% confidence, that the probability of vaping will\\nincrease between 0.0498 (4.98%) and 0.0509 (5.09%) for every 1 hour \\nincrease in social media usage.\\n'"
      ]
     },
     "execution_count": 38,
     "metadata": {},
     "output_type": "execute_result"
    }
   ],
   "source": [
    "\"\"\"\n",
    "We can say, with 95% confidence, that the probability of vaping will\n",
    "increase between 0.0498 (4.98%) and 0.0509 (5.09%) for every 1 hour \n",
    "increase in social media usage.\n",
    "\"\"\""
   ]
  }
 ],
 "metadata": {
  "kernelspec": {
   "display_name": "Python 3",
   "language": "python",
   "name": "python3"
  },
  "language_info": {
   "codemirror_mode": {
    "name": "ipython",
    "version": 3
   },
   "file_extension": ".py",
   "mimetype": "text/x-python",
   "name": "python",
   "nbconvert_exporter": "python",
   "pygments_lexer": "ipython3",
   "version": "3.6.9"
  }
 },
 "nbformat": 4,
 "nbformat_minor": 2
}
